{
 "cells": [
  {
   "cell_type": "code",
   "execution_count": 3,
   "id": "gorgeous-surfing",
   "metadata": {},
   "outputs": [],
   "source": [
    "import numpy as np\n",
    "import matplotlib.pyplot as plt\n",
    "def myfft2(A): \n",
    "    return np.fft.fftshift(np.fft.fft2(np.fft.fftshift(A)))\n",
    "def myifft2(A): \n",
    "    return np.fft.fftshift(np.fft.ifft2(np.fft.fftshift(A)))\n",
    "from skimage.metrics import structural_similarity as ssim\n",
    "from tensorflow.keras.models import Sequential\n",
    "from tensorflow.keras.layers import Dense\n",
    "from tensorflow import keras\n",
    "def base_model():\n",
    "    model = Sequential()\n",
    "    model.add(Dense(dim**2, input_dim= 2*dim ** 2, activation='linear', use_bias=False))  \n",
    "    model.compile(loss='MSE', optimizer='adam', metrics=['accuracy'])\n",
    "    return model"
   ]
  },
  {
   "cell_type": "code",
   "execution_count": 2,
   "id": "psychological-better",
   "metadata": {},
   "outputs": [],
   "source": [
    "datasets=np.load('curated_data/speckle_datasets.npy') # If generating your own data, change to 'user_created_data/speckle_datasets.npy'"
   ]
  },
  {
   "cell_type": "markdown",
   "id": "infinite-firewall",
   "metadata": {},
   "source": [
    "The next cell "
   ]
  },
  {
   "cell_type": "code",
   "execution_count": null,
   "id": "binding-burner",
   "metadata": {},
   "outputs": [],
   "source": [
    "\n",
    "\n",
    "m1 = 1 ; m2 = 3\n",
    "\n",
    "xmax = 10\n",
    "dim = 32\n",
    "dx = 2*xmax/dim ; x = np.linspace(-xmax,xmax-dx,dim)\n",
    "\n",
    "X,Y=np.meshgrid(x,x)\n",
    "R2=(X**2+Y**2)\n",
    "flambda=80\n",
    "Lens = np.exp(-1j*R2/(flambda/10))\n",
    "\n",
    "\n",
    "T = np.arctan2(Y,X)\n",
    "V1 = np.exp(1j*(m1)*T) ; V2 = np.exp(1j*(m2)*T)\n",
    "\n",
    "LG1=Lens*V1 ; LG2=Lens*V2\n",
    "plt.imshow(np.angle(np.hstack((LG1,LG2))),cmap='twilight')\n",
    "plt.axis('off')\n",
    "plt.show()\n",
    "\n",
    "\n",
    "def vort_THIS(A,LGA,LGB):\n",
    "    length=A.shape[0]\n",
    "    out=np.zeros((length,A.shape[1],A.shape[2]*2))\n",
    "    for i in range(length):\n",
    "        A1=np.abs(myfft2(np.exp(1j*A[i]*np.pi/2)*LGA)) ; A2=np.abs(myfft2(np.exp(1j*A[i]*np.pi/2)*LGB))\n",
    "        A1=(A1-np.amin(A1))/np.amax(A1-np.amin(A1))*2-1    ; A2=(A2-np.amin(A2))/np.amax(A2-np.amin(A2))*2-1\n",
    "        #A1=A1/np.sum(A1)\n",
    "        out[i]=np.hstack((A1,A2))\n",
    "    return out"
   ]
  },
  {
   "cell_type": "code",
   "execution_count": null,
   "id": "ancient-elite",
   "metadata": {},
   "outputs": [],
   "source": [
    "# Create tensorflow models. Store histories\n",
    "\n",
    "imax=10000 # Number of images \n",
    "\n",
    "models=[] # Stores generated models\n",
    "histories=[]\n",
    "for i in range(10):\n",
    "    ds=datasets[i]\n",
    "    for j in range(imax): # Have to normalize [0,1]\n",
    "        ds[j]=(ds[j]-np.amin(ds[j]))/np.amax(ds[j]-np.amin(ds[j]))\n",
    "    "
   ]
  }
 ],
 "metadata": {
  "kernelspec": {
   "display_name": "Python 3",
   "language": "python",
   "name": "python3"
  },
  "language_info": {
   "codemirror_mode": {
    "name": "ipython",
    "version": 3
   },
   "file_extension": ".py",
   "mimetype": "text/x-python",
   "name": "python",
   "nbconvert_exporter": "python",
   "pygments_lexer": "ipython3",
   "version": "3.7.9"
  }
 },
 "nbformat": 4,
 "nbformat_minor": 5
}
